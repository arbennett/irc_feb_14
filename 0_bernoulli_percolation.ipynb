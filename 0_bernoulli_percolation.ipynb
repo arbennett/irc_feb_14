{
 "cells": [
  {
   "cell_type": "markdown",
   "metadata": {},
   "source": [
    "# Exploration 0: Bernoulli Percolation\n",
    "\n",
    "Bernoulli percolation is a mathematical model used to study the behavior of connected clusters in a random graph. Imagine a grid where each edge (or site) is either open or closed with a certain probability. In Bernoulli percolation, each edge is independently open with probability ( p ) and closed with probability ( 1 - p ). Study of this problem originates in the coal industry, and incidentally Rosalind Franklin was one of the early researchers in this area. \n",
    "\n",
    "The main question in Bernoulli percolation is to determine the critical probability ( p_c ) at which a giant connected cluster of open edges first appears, spanning from one side of the grid to the other. Below this critical probability, clusters are typically small and isolated. Above it, a large, spanning cluster emerges. For 2d grids, there are two well known setups: grid and bond percolation. We will use grid percolation since it's easy to visualize and implement. But bond percolation is more well understood and has a proven p_c value of 0.5. Interestingly grid percolation doesn't have a rigorously derived p_c value, but it is experimentally known to be around 0.5927.\n",
    "\n",
    "Why I think this is interesting to thinking about heterogeneity in subsurface hydrology: This is about as simple of a system about connectivity as you can think of. It is a simple binary system, and yet it has a very rich set of emergent behaviors. It is also a system that is easy to visualize and simulate. I think it is a good starting point for thinking about how heterogeneity in subsurface hydrology might affect connectivity.\n"
   ]
  },
  {
   "cell_type": "code",
   "execution_count": 1,
   "metadata": {},
   "outputs": [
    {
     "data": {
      "application/vnd.jupyter.widget-view+json": {
       "model_id": "987275b2cc714f269c3b858996eb7072",
       "version_major": 2,
       "version_minor": 0
      },
      "text/plain": [
       "interactive(children=(FloatSlider(value=0.5, description='Probability p', max=1.0, step=0.01), IntSlider(value…"
      ]
     },
     "metadata": {},
     "output_type": "display_data"
    },
    {
     "data": {
      "text/plain": [
       "<function src.bernoulli_percolation.plot_percolation(p=0.5, size=30, samples=50)>"
      ]
     },
     "execution_count": 1,
     "metadata": {},
     "output_type": "execute_result"
    }
   ],
   "source": [
    "from ipywidgets import interact, FloatSlider, IntSlider\n",
    "from src.bernoulli_percolation import plot_percolation\n",
    "\n",
    "grid_size = 100\n",
    "samples = 100\n",
    "\n",
    "# Create interactive widget\n",
    "interact(plot_percolation,\n",
    "         p=FloatSlider(value=0.5, min=0, max=1, step=0.01, description='Probability p'),\n",
    "         size=IntSlider(value=grid_size, min=10, max=500, step=10, description='Grid Size'),\n",
    "         samples=IntSlider(value=samples, min=10, max=200, step=10, description='Samples'))"
   ]
  },
  {
   "cell_type": "code",
   "execution_count": null,
   "metadata": {},
   "outputs": [],
   "source": []
  }
 ],
 "metadata": {
  "kernelspec": {
   "display_name": "ml",
   "language": "python",
   "name": "python3"
  },
  "language_info": {
   "codemirror_mode": {
    "name": "ipython",
    "version": 3
   },
   "file_extension": ".py",
   "mimetype": "text/x-python",
   "name": "python",
   "nbconvert_exporter": "python",
   "pygments_lexer": "ipython3",
   "version": "3.10.13"
  }
 },
 "nbformat": 4,
 "nbformat_minor": 4
}
