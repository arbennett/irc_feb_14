{
 "cells": [
  {
   "cell_type": "code",
   "execution_count": 43,
   "metadata": {},
   "outputs": [],
   "source": [
    "import numpy as np\n",
    "from numba import jit\n",
    "import random\n",
    "import matplotlib.pyplot as plt\n",
    "\n",
    "@jit(nopython=True)\n",
    "def metropolis_step(lattice, beta, J):\n",
    "    \"\"\"Perform one Metropolis step on the lattice.\"\"\"\n",
    "    N = len(lattice)\n",
    "    for _ in range(N*N):\n",
    "        # Choose random site\n",
    "        i = random.randint(0, N-1)\n",
    "        j = random.randint(0, N-1)\n",
    "    \n",
    "        # Calculate energy change for flip\n",
    "        spin = lattice[i, j]\n",
    "        neighbors = (lattice[(i+1)%N, j] + \n",
    "                    lattice[i, (j+1)%N] + \n",
    "                    lattice[(i-1)%N, j] + \n",
    "                    lattice[i, (j-1)%N])\n",
    "    \n",
    "        delta_E = 2 * J * spin * neighbors\n",
    "    \n",
    "        # Metropolis acceptance criterion\n",
    "        if delta_E <= 0 or random.random() < np.exp(-beta * delta_E):\n",
    "            lattice[i, j] = -spin\n",
    "\n",
    "def run_simulation(N, T, J=1.0, steps=10000):\n",
    "    \"\"\"\n",
    "    Run Ising model simulation.\n",
    "    \n",
    "    Parameters:\n",
    "    -----------\n",
    "    N : int\n",
    "        Size of the lattice (N x N)\n",
    "    T : float\n",
    "        Temperature in units where k_B = 1\n",
    "    J : float\n",
    "        Coupling constant\n",
    "    steps : int\n",
    "        Number of Monte Carlo steps\n",
    "    equilibration_steps : int\n",
    "        Number of steps to equilibrate before measurements\n",
    "        \n",
    "    Returns:\n",
    "    --------\n",
    "    dict containing energy, magnetization, and their fluctuations\n",
    "    \"\"\"\n",
    "    # Initialize random lattice\n",
    "    lattice = np.random.choice([-1, 1], size=(N, N))\n",
    "    beta = 1.0 / T\n",
    "    \n",
    "    # Main simulation loop with measurements\n",
    "    for _ in range(steps):\n",
    "        metropolis_step(lattice, beta, J)\n",
    "   \n",
    "    return lattice"
   ]
  },
  {
   "cell_type": "code",
   "execution_count": 117,
   "metadata": {},
   "outputs": [],
   "source": [
    "# Simulate near critical temperature of 2D Ising model\n",
    "N = 50  # 50x50 lattice\n",
    "T_c = 2.269  # Critical temperature in units where k_B = 1\n",
    "T = 2.2\n",
    "\n",
    "mean_vals = []\n",
    "n_iters = 1000\n",
    "for _ in range(n_iters):\n",
    "    results = run_simulation(N=N, T=T, steps=300)\n",
    "    results[results ==-1] = 0\n",
    "    mean_vals.append(np.mean(results))"
   ]
  },
  {
   "cell_type": "code",
   "execution_count": 118,
   "metadata": {},
   "outputs": [
    {
     "data": {
      "text/plain": [
       "(array([41., 36., 45., 46., 52., 53., 53., 53., 62., 53., 62., 53., 69.,\n",
       "        58., 57., 50., 44., 40., 40., 33.]),\n",
       " array([0.0636 , 0.10748, 0.15136, 0.19524, 0.23912, 0.283  , 0.32688,\n",
       "        0.37076, 0.41464, 0.45852, 0.5024 , 0.54628, 0.59016, 0.63404,\n",
       "        0.67792, 0.7218 , 0.76568, 0.80956, 0.85344, 0.89732, 0.9412 ]),\n",
       " <BarContainer object of 20 artists>)"
      ]
     },
     "execution_count": 118,
     "metadata": {},
     "output_type": "execute_result"
    },
    {
     "data": {
      "image/png": "[encoded data removed]",
      "text/plain": [
       "<Figure size 640x480 with 1 Axes>"
      ]
     },
     "metadata": {},
     "output_type": "display_data"
    }
   ],
   "source": [
    "plt.hist(mean_vals, bins=20)"
   ]
  },
  {
   "cell_type": "code",
   "execution_count": 119,
   "metadata": {},
   "outputs": [
    {
     "data": {
      "text/plain": [
       "<matplotlib.colorbar.Colorbar at 0x7f4aba811660>"
      ]
     },
     "execution_count": 119,
     "metadata": {},
     "output_type": "execute_result"
    },
    {
     "data": {
      "image/png": "[encoded data removed]",
      "text/plain": [
       "<Figure size 640x480 with 2 Axes>"
      ]
     },
     "metadata": {},
     "output_type": "display_data"
    }
   ],
   "source": [
    "plt.imshow(results)\n",
    "plt.colorbar()"
   ]
  },
  {
   "cell_type": "code",
   "execution_count": null,
   "metadata": {},
   "outputs": [
    {
     "data": {
      "text/plain": [
       "0.5884"
      ]
     },
     "execution_count": 59,
     "metadata": {},
     "output_type": "execute_result"
    }
   ],
   "source": []
  },
  {
   "cell_type": "code",
   "execution_count": null,
   "metadata": {},
   "outputs": [],
   "source": []
  }
 ],
 "metadata": {
  "kernelspec": {
   "display_name": "ml",
   "language": "python",
   "name": "python3"
  },
  "language_info": {
   "codemirror_mode": {
    "name": "ipython",
    "version": 3
   },
   "file_extension": ".py",
   "mimetype": "text/x-python",
   "name": "python",
   "nbconvert_exporter": "python",
   "pygments_lexer": "ipython3",
   "version": "3.10.13"
  }
 },
 "nbformat": 4,
 "nbformat_minor": 2
}
