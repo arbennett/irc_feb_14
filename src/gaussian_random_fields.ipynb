{
 "cells": [
  {
   "cell_type": "code",
   "execution_count": 22,
   "metadata": {},
   "outputs": [],
   "source": [
    "import numpy as np\n",
    "from scipy import spatial\n",
    "import matplotlib.pyplot as plt\n",
    "\n",
    "def create_grid(nx, ny, dx=1.0, dy=1.0):\n",
    "    \"\"\"Create a 2D grid of points.\"\"\"\n",
    "    x = np.linspace(0, (nx-1)*dx, nx)\n",
    "    y = np.linspace(0, (ny-1)*dy, ny)\n",
    "    xx, yy = np.meshgrid(x, y)\n",
    "    return xx, yy\n",
    "\n",
    "def exponential_covariance(h, variance=1.0, correlation_length=1.0):\n",
    "    \"\"\"Exponential covariance function.\"\"\"\n",
    "    return variance * np.exp(-h/correlation_length)\n",
    "\n",
    "def gaussian_covariance(h, variance=1.0, correlation_length=1.0):\n",
    "    \"\"\"Gaussian covariance function.\"\"\"\n",
    "    return variance * np.exp(-(h/correlation_length)**2)\n",
    "\n",
    "def matern_covariance(h, variance=1.0, correlation_length=1.0, nu=1.5):\n",
    "    \"\"\"Matérn covariance function.\"\"\"\n",
    "    from scipy.special import gamma, kv\n",
    "    if nu == 0.5:\n",
    "        return exponential_covariance(h, variance, correlation_length)\n",
    "    \n",
    "    h = np.maximum(h, 1e-10)  # Avoid zero division\n",
    "    scale = correlation_length\n",
    "    \n",
    "    sqrt_2nu = np.sqrt(2 * nu)\n",
    "    h_scale = sqrt_2nu * h / scale\n",
    "    \n",
    "    return variance * (2**(1-nu)) / gamma(nu) * (h_scale**nu) * kv(nu, h_scale)\n",
    "\n",
    "def generate_grf(nx, ny, covariance_function, variance=1.0, correlation_length=1.0, \n",
    "                 dx=1.0, dy=1.0, mean=0.0, nu=1.5):\n",
    "    \"\"\"\n",
    "    Generate a Gaussian Random Field.\n",
    "    \n",
    "    Parameters:\n",
    "    -----------\n",
    "    nx, ny : int\n",
    "        Number of points in x and y directions\n",
    "    covariance_function : function\n",
    "        Covariance function to use\n",
    "    variance : float\n",
    "        Variance of the field\n",
    "    correlation_length : float\n",
    "        Correlation length of the field\n",
    "    dx, dy : float\n",
    "        Grid spacing in x and y directions\n",
    "    mean : float\n",
    "        Mean of the field\n",
    "    nu : float\n",
    "        Smoothness parameter for Matérn covariance\n",
    "    \n",
    "    Returns:\n",
    "    --------\n",
    "    numpy.ndarray\n",
    "        Generated random field\n",
    "    \"\"\"\n",
    "    # Create grid\n",
    "    xx, yy = create_grid(nx, ny, dx, dy)\n",
    "    points = np.column_stack((xx.flatten(), yy.flatten()))\n",
    "    \n",
    "    # Calculate distances between all points\n",
    "    distances = spatial.distance.cdist(points, points)\n",
    "    \n",
    "    # Calculate covariance matrix\n",
    "    if covariance_function.__name__ == 'matern_covariance':\n",
    "        cov_matrix = covariance_function(distances, variance, correlation_length, nu)\n",
    "    else:\n",
    "        cov_matrix = covariance_function(distances, variance, correlation_length)\n",
    "    \n",
    "    # Ensure matrix is symmetric and positive definite\n",
    "    cov_matrix = (cov_matrix + cov_matrix.T) / 2\n",
    "    cov_matrix += 1e-10 * np.eye(len(cov_matrix))\n",
    "    \n",
    "    # Generate random field\n",
    "    L = np.linalg.cholesky(cov_matrix)\n",
    "    z = np.random.normal(0, 1, nx*ny)\n",
    "    field = mean + np.dot(L, z)\n",
    "    \n",
    "    return field.reshape(ny, nx)\n",
    "\n",
    "def generate_gaussian_random_binary_field(grf, threshold=0.0):\n",
    "    \"\"\"Convert Gaussian random field to binary field.\"\"\"\n",
    "    return (grf > threshold).astype(int)\n",
    "\n",
    "def plot_field(field, title=\"Random Field\", cmap='viridis'):\n",
    "    \"\"\"Plot the generated field.\"\"\"\n",
    "    plt.figure(figsize=(10, 8))\n",
    "    plt.imshow(field, cmap=cmap)\n",
    "    plt.colorbar(label='Value')\n",
    "    plt.title(title)\n",
    "    plt.xlabel('X')\n",
    "    plt.ylabel('Y')\n",
    "    plt.show()\n"
   ]
  },
  {
   "cell_type": "code",
   "execution_count": 46,
   "metadata": {},
   "outputs": [],
   "source": [
    "# Generate fields with different covariance functions\n",
    "nx, ny = 50, 50\n",
    "variance = 1.0\n",
    "correlation_length = 10.0\n",
    "\n",
    "frac_1 = []\n",
    "frac_2 = []\n",
    "frac_3 = []\n",
    "\n",
    "n_iter = 100\n",
    "\n",
    "for i in range(n_iter):\n",
    "    # Generate and plot continuous fields\n",
    "    #f1 = generate_grf(nx, ny, exponential_covariance, variance, correlation_length)\n",
    "    #f2 = generate_grf(nx, ny, gaussian_covariance, variance, correlation_length)\n",
    "    f3 = generate_grf(nx, ny, matern_covariance, variance, correlation_length, nu=1.5)\n",
    "\n",
    "    #bf1 = generate_binary_field(f1, threshold=0.1)\n",
    "    #bf2 = generate_binary_field(f2, threshold=0.1)\n",
    "    bf3 = generate_binary_field(f3, threshold=-1.1)\n",
    "\n",
    "    #frac_1.append(np.sum(bf1) / (nx * ny))\n",
    "    #frac_2.append(np.sum(bf2) / (nx * ny))\n",
    "    frac_3.append(np.sum(bf3) / (nx * ny))\n",
    "\n"
   ]
  },
  {
   "cell_type": "code",
   "execution_count": 47,
   "metadata": {},
   "outputs": [
    {
     "data": {
      "text/plain": [
       "(array([ 1.,  1.,  2.,  1.,  4.,  5.,  9., 18., 30., 29.]),\n",
       " array([0.4336 , 0.49024, 0.54688, 0.60352, 0.66016, 0.7168 , 0.77344,\n",
       "        0.83008, 0.88672, 0.94336, 1.     ]),\n",
       " <BarContainer object of 10 artists>)"
      ]
     },
     "execution_count": 47,
     "metadata": {},
     "output_type": "execute_result"
    },
    {
     "data": {
      "image/png": "[encoded data removed]",
      "text/plain": [
       "<Figure size 640x480 with 1 Axes>"
      ]
     },
     "metadata": {},
     "output_type": "display_data"
    }
   ],
   "source": [
    "plt.hist(frac_3)"
   ]
  },
  {
   "cell_type": "code",
   "execution_count": 45,
   "metadata": {},
   "outputs": [
    {
     "data": {
      "text/plain": [
       "<matplotlib.image.AxesImage at 0x7f0b289d5570>"
      ]
     },
     "execution_count": 45,
     "metadata": {},
     "output_type": "execute_result"
    },
    {
     "data": {
      "image/png": "[encoded data removed]",
      "text/plain": [
       "<Figure size 640x480 with 1 Axes>"
      ]
     },
     "metadata": {},
     "output_type": "display_data"
    }
   ],
   "source": [
    "plt.imshow(bf3)"
   ]
  },
  {
   "cell_type": "code",
   "execution_count": null,
   "metadata": {},
   "outputs": [],
   "source": []
  },
  {
   "cell_type": "code",
   "execution_count": null,
   "metadata": {},
   "outputs": [],
   "source": []
  }
 ],
 "metadata": {
  "kernelspec": {
   "display_name": "ml",
   "language": "python",
   "name": "python3"
  },
  "language_info": {
   "codemirror_mode": {
    "name": "ipython",
    "version": 3
   },
   "file_extension": ".py",
   "mimetype": "text/x-python",
   "name": "python",
   "nbconvert_exporter": "python",
   "pygments_lexer": "ipython3",
   "version": "3.10.13"
  }
 },
 "nbformat": 4,
 "nbformat_minor": 2
}
